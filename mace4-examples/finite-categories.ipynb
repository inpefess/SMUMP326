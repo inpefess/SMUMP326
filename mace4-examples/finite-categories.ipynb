{
 "cells": [
  {
   "cell_type": "markdown",
   "id": "b5526356",
   "metadata": {
    "collapsed": false
   },
   "source": [
    "<pre>\n",
    "   Copyright 2022 Boris Shminke\n",
    "\n",
    "   Licensed under the Apache License, Version 2.0 (the \"License\");\n",
    "   you may not use this file except in compliance with the License.\n",
    "   You may obtain a copy of the License at\n",
    "\n",
    "       http://www.apache.org/licenses/LICENSE-2.0\n",
    "\n",
    "   Unless required by applicable law or agreed to in writing, software\n",
    "   distributed under the License is distributed on an \"AS IS\" BASIS,\n",
    "   WITHOUT WARRANTIES OR CONDITIONS OF ANY KIND, either express or implied.\n",
    "   See the License for the specific language governing permissions and\n",
    "   limitations under the License.\n",
    "</pre>"
   ]
  },
  {
   "cell_type": "markdown",
   "id": "82e4e13e",
   "metadata": {
    "collapsed": false
   },
   "source": [
    "# Part 2: Finite Categories\n",
    "\n",
    "[Categories](https://ncatlab.org/nlab/show/category#idea) can be represented as semigroups of morphisms.\n",
    "\n",
    "We call set of all morphisms between two given objects a hom-set.\n",
    "\n",
    "Here we have a picture of a category with two objects and two morphisms in each hom-set."
   ]
  },
  {
   "cell_type": "markdown",
   "id": "0d13aca6",
   "metadata": {
    "collapsed": false
   },
   "source": [
    "![category](category.png)"
   ]
  },
  {
   "cell_type": "markdown",
   "id": "e9e28de8",
   "metadata": {
    "collapsed": false
   },
   "source": [
    "c123 is the third morphism from object 1 to object 2. The zeroth morphism (like c220) is always the identity.\n",
    "\n",
    "c220 * c234 = c234 (from identity axioms)\n",
    "\n",
    "We also define the morphism c which is a result of composition of two non-composable morphisms. c itself is not composable with anything.\n",
    "\n",
    "c120 * c = c\n",
    "\n",
    "c234 * c120 = c\n",
    "\n",
    "In addition to these obvious equations we have some non-equations defined by categories composition law:\n",
    "\n",
    "c120 * c230 != c140 (it can be only c13[.])"
   ]
  },
  {
   "cell_type": "markdown",
   "id": "2dfa57cf",
   "metadata": {
    "collapsed": false
   },
   "source": [
    "# Task 2\n",
    "Start with a class template in the next cell.\n",
    "\n",
    "* implement all the methods in the class template and make sure all the assertions pass without any error\n",
    "* make sure that the class works as a whole and paste its input to Mace4\n",
    "* find the number of finite categories with 2 and 3 objects and 2 morphisms in each Hom set, and then the number of finite categories with 2 objects and 3 morphisms in each Hom set"
   ]
  },
  {
   "cell_type": "code",
   "execution_count": 1,
   "id": "2b9226c3",
   "metadata": {
    "collapsed": false
   },
   "outputs": [],
   "source": [
    "\"\"\" a generator for equations between finite categories morphisms \"\"\"\n",
    "from typing import List\n",
    "\n",
    "\n",
    "class FiniteCategory:\n",
    "    \"\"\"\n",
    "    >>> print(len(FiniteCategory(2, 1).equations))\n",
    "    31\n",
    "    \"\"\"\n",
    "\n",
    "    def __init__(self, number_of_objects: int, hom_set_size: int):\n",
    "        self.number_of_objects = number_of_objects\n",
    "        self.hom_set_size = hom_set_size\n",
    "        self.equations = (\n",
    "            self.identity_axioms()\n",
    "            + self.non_composable_axioms()\n",
    "            + self.generate_non_equations()\n",
    "        )\n",
    "        self.enumerate_constants()\n",
    "\n",
    "    def identity_axioms(self) -> List[str]:\n",
    "        \"\"\"\n",
    "        :returns: a list of Mace4 formulae like:\n",
    "            c110 * c123 = c123.\n",
    "            c456 * c550 = c456.\n",
    "        \"\"\"\n",
    "        # you code here\n",
    "\n",
    "    def non_composable_axioms(self) -> List[str]:\n",
    "        \"\"\"\n",
    "        :returns: a list of Mace4 formulae like:\n",
    "            c * c = c.\n",
    "            c123 * c = c.\n",
    "            c * c456 = c.\n",
    "            % target of c123 is 2, not equal to 4, source of c456\n",
    "            c123 * c456 = c.\n",
    "        \"\"\"\n",
    "        # you code here\n",
    "        \n",
    "    def generate_non_equations(self) -> List[str]:\n",
    "        \"\"\"\n",
    "        :returns: a list of Mace4 negated equations like:\n",
    "            c123 * c245 != c678. (it can be only c14_)\n",
    "            c123 * c245 != c. (morphisms c123 and c245 are composable)\n",
    "        \"\"\"\n",
    "        # you code here\n",
    "\n",
    "    def enumerate_constants(self) -> None:\n",
    "        \"\"\"\n",
    "        change string constants to natural numbers starting from zero\n",
    "\n",
    "        :returns:\n",
    "        \"\"\"\n",
    "        # you code here"
   ]
  },
  {
   "cell_type": "code",
   "execution_count": null,
   "id": "3ba77ec9",
   "metadata": {
    "collapsed": false
   },
   "outputs": [],
   "source": [
    "# if assertion fails with any error, there is some problem with your code\n",
    "assert (\n",
    "    FiniteCategory(1, 2).identity_axioms() ==\n",
    "    [\"c000 * c000 = c000.\", \"c000 * c001 = c001.\", \"c001 * c000 = c001.\"]\n",
    ")"
   ]
  },
  {
   "cell_type": "code",
   "execution_count": null,
   "id": "8feb9565",
   "metadata": {
    "collapsed": false
   },
   "outputs": [],
   "source": [
    "assert(\n",
    "    FiniteCategory(1, 2).non_composable_axioms() ==\n",
    "    [\"c * c = c.\", \"c * c000 = c.\", \"c * c001 = c.\", \"c000 * c = c.\", \"c001 * c = c.\"]\n",
    ")"
   ]
  },
  {
   "cell_type": "code",
   "execution_count": null,
   "id": "d8fdd562",
   "metadata": {
    "collapsed": false
   },
   "outputs": [],
   "source": [
    "assert(\n",
    "    FiniteCategory(1, 2).generate_non_equations() ==\n",
    "    [\"c001 * c001 != c.\"]\n",
    ")"
   ]
  },
  {
   "cell_type": "code",
   "execution_count": null,
   "id": "cc87505c",
   "metadata": {
    "collapsed": false,
    "scrolled": true
   },
   "outputs": [],
   "source": [
    "assert 9 == len(FiniteCategory(1, 2).equations)\n",
    "assert 31 == len(FiniteCategory(2, 1).equations)\n",
    "assert 189 == len(FiniteCategory(2, 2).equations)"
   ]
  },
  {
   "cell_type": "code",
   "execution_count": null,
   "id": "e47bf7b7",
   "metadata": {
    "collapsed": false
   },
   "outputs": [],
   "source": []
  }
 ],
 "metadata": {
  "kernelspec": {
   "argv": [
    "python",
    "-m",
    "ipykernel_launcher",
    "-f",
    "{connection_file}"
   ],
   "display_name": "Python 3 (ipykernel)",
   "env": null,
   "interrupt_mode": "signal",
   "language": "python",
   "metadata": {
    "debugger": true
   },
   "name": "python3"
  },
  "language_info": {
   "codemirror_mode": {
    "name": "ipython",
    "version": 3
   },
   "file_extension": ".py",
   "mimetype": "text/x-python",
   "name": "python",
   "nbconvert_exporter": "python",
   "pygments_lexer": "ipython3",
   "version": "3.9.9"
  },
  "name": "finite-categories.ipynb"
 },
 "nbformat": 4,
 "nbformat_minor": 5
}
